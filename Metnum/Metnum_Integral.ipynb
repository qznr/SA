{
 "cells": [
  {
   "cell_type": "markdown",
   "metadata": {},
   "source": [
    "## Left Riemann Integral\n",
    "\n",
    "The left Riemann integral approximates the area under a curve by summing up the areas of rectangles whose heights are determined by the function at the left endpoints of each subinterval.\n",
    "\n",
    "The left Riemann integral of a function $f(x)$ on the interval $[a, b]$ using $n$ subintervals is given by:\n",
    "\n",
    "$\\text{{left\\_riemann\\_integral}}(f, a, b, n) = \\sum_{{i=0}}^{{n-1}} f(x_i) \\cdot h$\n"
   ]
  },
  {
   "cell_type": "code",
   "execution_count": 1,
   "metadata": {},
   "outputs": [],
   "source": [
    "def left_riemann_integral(f, a, b, n):\n",
    "    \"\"\"\n",
    "    Compute the left Riemann integral of the function f on the interval [a, b]\n",
    "    using n subintervals.\n",
    "\n",
    "    Parameters:\n",
    "        f: The function to integrate.\n",
    "        a: The lower bound of the interval.\n",
    "        b: The upper bound of the interval.\n",
    "        n: The number of subintervals.\n",
    "\n",
    "    Returns:\n",
    "        The value of the left Riemann integral.\n",
    "    \"\"\"\n",
    "    h = (b - a) / n\n",
    "    result = 0.0\n",
    "    for i in range(n):\n",
    "        x_i = a + i * h\n",
    "        result += f(x_i) * h\n",
    "    return result"
   ]
  },
  {
   "cell_type": "markdown",
   "metadata": {},
   "source": [
    "## Right Riemann Integral\n",
    "\n",
    "The right Riemann integral approximates the area under a curve by summing up the areas of rectangles whose heights are determined by the function at the right endpoints of each subinterval.\n",
    "\n",
    "The right Riemann integral of a function $f(x)$ on the interval $[a, b]$ using $n$ subintervals is given by:\n",
    "\n",
    "$\\text{{right\\_riemann\\_integral}}(f, a, b, n) = \\sum_{{i=1}}^{{n}} f(x_i) \\cdot h$\n"
   ]
  },
  {
   "cell_type": "code",
   "execution_count": 2,
   "metadata": {},
   "outputs": [],
   "source": [
    "def right_riemann_integral(f, a, b, n):\n",
    "    \"\"\"\n",
    "    Compute the right Riemann integral of the function f on the interval [a, b]\n",
    "    using n subintervals.\n",
    "\n",
    "    Parameters:\n",
    "        f: The function to integrate.\n",
    "        a: The lower bound of the interval.\n",
    "        b: The upper bound of the interval.\n",
    "        n: The number of subintervals.\n",
    "\n",
    "    Returns:\n",
    "        The value of the right Riemann integral.\n",
    "    \"\"\"\n",
    "    h = (b - a) / n\n",
    "    result = 0.0\n",
    "    for i in range(1, n + 1):\n",
    "        x_i = a + i * h\n",
    "        result += f(x_i) * h\n",
    "    return result"
   ]
  },
  {
   "cell_type": "markdown",
   "metadata": {},
   "source": [
    "## Central Riemann Integral\n",
    "\n",
    "The central Riemann integral approximates the area under a curve by summing up the areas of rectangles whose heights are determined by the function at the midpoints of each subinterval.\n",
    "\n",
    "The central Riemann integral of a function $f(x)$ on the interval $[a, b]$ using $n$ subintervals is given by:\n",
    "\n",
    "$\\text{{central\\_riemann\\_integral}}(f, a, b, n) = \\sum_{{i=0}}^{{n-1}} f\\left(x_i + \\frac{h}{2}\\right) \\cdot h$"
   ]
  },
  {
   "cell_type": "code",
   "execution_count": 3,
   "metadata": {},
   "outputs": [],
   "source": [
    "def central_riemann_integral(f, a, b, n):\n",
    "    \"\"\"\n",
    "    Compute the central Riemann integral of the function f on the interval [a, b]\n",
    "    using n subintervals.\n",
    "\n",
    "    Parameters:\n",
    "        f: The function to integrate.\n",
    "        a: The lower bound of the interval.\n",
    "        b: The upper bound of the interval.\n",
    "        n: The number of subintervals.\n",
    "\n",
    "    Returns:\n",
    "        The value of the central Riemann integral.\n",
    "    \"\"\"\n",
    "    h = (b - a) / n\n",
    "    result = 0.0\n",
    "    for i in range(n):\n",
    "        x_i = a + (i + 0.5) * h\n",
    "        result += f(x_i) * h\n",
    "    return result"
   ]
  },
  {
   "cell_type": "markdown",
   "metadata": {},
   "source": [
    "## Trapezoidal Integral\n",
    "\n",
    "The trapezoidal integral approximates the area under a curve by forming trapezoids between adjacent points and then summing up their areas.\n",
    "\n",
    "The trapezoidal integral of a function $f(x)$ on the interval $[a, b]$ using $n$ subintervals is given by:\n",
    "\n",
    "$\\text{{trapezoidal\\_integral}}(f, a, b, n) = \\sum_{{i=0}}^{{n-1}} \\frac{{f(x_i) + f(x_{i+1})}}{2} \\cdot h$"
   ]
  },
  {
   "cell_type": "code",
   "execution_count": 4,
   "metadata": {},
   "outputs": [],
   "source": [
    "def trapezoidal_integral(f, a, b, n):\n",
    "    \"\"\"\n",
    "    Compute the trapezoidal integral of the function f on the interval [a, b]\n",
    "    using n subintervals.\n",
    "\n",
    "    Parameters:\n",
    "        f: The function to integrate.\n",
    "        a: The lower bound of the interval.\n",
    "        b: The upper bound of the interval.\n",
    "        n: The number of subintervals.\n",
    "\n",
    "    Returns:\n",
    "        The value of the trapezoidal integral.\n",
    "    \"\"\"\n",
    "    h = (b - a) / n\n",
    "    result = 0.0\n",
    "    for i in range(n):\n",
    "        x_i = a + i * h\n",
    "        x_next = a + (i + 1) * h\n",
    "        result += (f(x_i) + f(x_next)) * h / 2\n",
    "    return result\n"
   ]
  },
  {
   "cell_type": "markdown",
   "metadata": {},
   "source": [
    "## Composite Simpson's Rule Approximation\n",
    "\n",
    "The Simpson's rule, also known as the composite Simpson's rule, is a numerical method for approximating the integral of a function using quadratic polynomials within each subinterval.\n",
    "\n",
    "The composite Simpson's rule approximation of the integral of a function $f(x)$ on the interval $[a, b]$ using $n$ subintervals (must be even) is given by:\n",
    "\n",
    "$\\text{{simpsons\\_integral}}(f, a, b, n) = \\frac{h}{3} \\left( f(a) + f(b) + 4 \\sum_{{i=1, 3, 5, \\ldots}}^{{n-1}} f(x_i) + 2 \\sum_{{i=2, 4, 6, \\ldots}}^{{n-2}} f(x_i) \\right)$\n"
   ]
  },
  {
   "cell_type": "code",
   "execution_count": null,
   "metadata": {},
   "outputs": [],
   "source": [
    "def simpsons_integral(f, a, b, n):\n",
    "    \"\"\"\n",
    "    Compute the composite Simpson's rule approximation of the integral of the function f\n",
    "    on the interval [a, b] using n subintervals.\n",
    "\n",
    "    Parameters:\n",
    "        f: The function to integrate.\n",
    "        a: The lower bound of the interval.\n",
    "        b: The upper bound of the interval.\n",
    "        n: The number of subintervals (should be even).\n",
    "\n",
    "    Returns:\n",
    "        The value of the composite Simpson's rule approximation.\n",
    "    \"\"\"\n",
    "    if n % 2 != 0:\n",
    "        raise ValueError(\"The number of subintervals (n) must be even.\")\n",
    "    \n",
    "    h = (b - a) / n\n",
    "    result = f(a) + f(b)\n",
    "    \n",
    "    for i in range(1, n):\n",
    "        x_i = a + i * h\n",
    "        if i % 2 == 0:\n",
    "            result += 2 * f(x_i)\n",
    "        else:\n",
    "            result += 4 * f(x_i)\n",
    "    \n",
    "    result *= h / 3\n",
    "    return result"
   ]
  },
  {
   "cell_type": "markdown",
   "metadata": {},
   "source": [
    "f = lambda x : 1/x\n",
    "\n",
    "print(f'Left Riemann\\t: {left_riemann_integral(f, 1, 2, 4):0.5f}')\n",
    "print(f'Right Riemann\\t: {right_riemann_integral(f, 1, 2, 4):0.5f}')\n",
    "print(f'Central Riemann\\t: {central_riemann_integral(f, 1, 2, 4):0.5f}')\n",
    "print(f'Trapezoid\\t: {trapezoidal_integral(f, 1, 2, 4):0.5f}')\n",
    "print(f'Simpson\\t: {trapezoidal_integral(f, 1, 2, 4):0.5f}')"
   ]
  }
 ],
 "metadata": {
  "kernelspec": {
   "display_name": "Python 3",
   "language": "python",
   "name": "python3"
  },
  "language_info": {
   "codemirror_mode": {
    "name": "ipython",
    "version": 3
   },
   "file_extension": ".py",
   "mimetype": "text/x-python",
   "name": "python",
   "nbconvert_exporter": "python",
   "pygments_lexer": "ipython3",
   "version": "3.11.0"
  },
  "orig_nbformat": 4
 },
 "nbformat": 4,
 "nbformat_minor": 2
}
