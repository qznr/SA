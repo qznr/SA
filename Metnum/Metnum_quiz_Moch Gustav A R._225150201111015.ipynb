{
 "cells": [
  {
   "cell_type": "markdown",
   "metadata": {},
   "source": [
    "<h4>Nama    : Moch. Gustav Ali Rafsandjani</h4>\n",
    "<h4>NIM     : 225150201111015</h4>"
   ]
  },
  {
   "cell_type": "markdown",
   "metadata": {},
   "source": [
    "<h4>Soal 1 </h4>\n",
    "Tentukan nilai Eigen,  Eigen Vector, serta matriks M, S dan N\n",
    "\n",
    "$$\\begin{bmatrix}\n",
    "20 & -4 & 8 \\\\\n",
    "-40 & 8 & -20 \\\\\n",
    "-40 & 12 & -26 \\\\\n",
    "\\end{bmatrix}$$"
   ]
  },
  {
   "cell_type": "code",
   "execution_count": 1,
   "metadata": {},
   "outputs": [],
   "source": [
    "import numpy as np"
   ]
  },
  {
   "cell_type": "code",
   "execution_count": 2,
   "metadata": {},
   "outputs": [],
   "source": [
    "matrix = np.array([[20, -4, 8], [-40, 8, -20], [-40, 12, -26]]) # Insisialisasi matrix"
   ]
  },
  {
   "cell_type": "code",
   "execution_count": 41,
   "metadata": {},
   "outputs": [
    {
     "name": "stdout",
     "output_type": "stream",
     "text": [
      "Iteration 1\n",
      "Vector: [1 1 1]\n",
      "Matrix * Vector: [ 24 -52 -54]\n",
      "Normalized Vector: [ 0.30489868 -0.6606138  -0.68602202]\n",
      "Eigenvalue approximation: 5.044544867656551\n",
      "\n",
      "Iteration 2\n",
      "Vector: [ 0.30489868 -0.6606138  -0.68602202]\n",
      "Matrix * Vector: [ 3.25225253 -3.76041699 -2.28674006]\n",
      "Normalized Vector: [ 0.59430194 -0.68716161 -0.41786855]\n",
      "Eigenvalue approximation: 29.91997930499268\n",
      "\n",
      "Iteration 3\n",
      "Vector: [ 0.59430194 -0.68716161 -0.41786855]\n",
      "Matrix * Vector: [ 11.29173679 -20.91199939 -21.15343455]\n",
      "Normalized Vector: [ 0.35490311 -0.65727123 -0.66485962]\n",
      "Eigenvalue approximation: 8.800745929705014\n",
      "\n",
      "Iteration 4\n",
      "Vector: [ 0.35490311 -0.65727123 -0.66485962]\n",
      "Matrix * Vector: [ 4.40827027 -6.15710206 -4.79702927]\n",
      "Normalized Vector: [ 0.49177201 -0.68686589 -0.53514068]\n",
      "Eigenvalue approximation: 21.508482069506336\n",
      "\n",
      "Iteration 5\n",
      "Vector: [ 0.49177201 -0.68686589 -0.53514068]\n",
      "Matrix * Vector: [  8.30177836 -14.46299401 -13.9996135 ]\n",
      "Normalized Vector: [ 0.38127836 -0.66424643 -0.64296461]\n",
      "Eigenvalue approximation: 11.260378564714472\n",
      "\n",
      "Iteration 6\n",
      "Vector: [ 0.38127836 -0.66424643 -0.64296461]\n",
      "Matrix * Vector: [ 5.13883606 -7.70581368 -6.50501174]\n",
      "Normalized Vector: [ 0.45403169 -0.68083192 -0.57473744]\n",
      "Eigenvalue approximation: 18.06397042839097\n",
      "\n",
      "Iteration 7\n",
      "Vector: [ 0.45403169 -0.68083192 -0.57473744]\n",
      "Matrix * Vector: [  7.20606196 -12.11317417 -11.38807721]\n",
      "Normalized Vector: [ 0.39767935 -0.66848707 -0.6284713 ]\n",
      "Eigenvalue approximation: 12.802472850160422\n",
      "\n",
      "Iteration 8\n",
      "Vector: [ 0.39767935 -0.66848707 -0.6284713 ]\n",
      "Matrix * Vector: [ 5.59976485 -8.6856445  -7.58876496]\n",
      "Normalized Vector: [ 0.43675297 -0.67743578 -0.59188479]\n",
      "Eigenvalue approximation: 16.46079789686672\n",
      "\n",
      "Iteration 9\n",
      "Vector: [ 0.43675297 -0.67743578 -0.59188479]\n",
      "Matrix * Vector: [  6.70972423 -11.05190929 -10.21034364]\n",
      "Normalized Vector: [ 0.40727408 -0.67084072 -0.61975846]\n",
      "Eigenvalue approximation: 13.70364944957415\n",
      "\n",
      "Iteration 10\n",
      "Vector: [ 0.40727408 -0.67084072 -0.61975846]\n",
      "Matrix * Vector: [ 5.87077688 -9.26251992 -8.22733204]\n",
      "Normalized Vector: [ 0.42822817 -0.67562982 -0.6001208 ]\n",
      "Eigenvalue approximation: 15.66582703232913\n",
      "\n",
      "Iteration 11\n",
      "Vector: [ 0.42822817 -0.67562982 -0.6001208 ]\n",
      "Matrix * Vector: [  6.46611625 -10.53174928  -9.63354376]\n",
      "Normalized Vector: [ 0.41265591 -0.6721173  -0.61479544]\n",
      "Eigenvalue approximation: 14.20851182598162\n",
      "\n",
      "Iteration 12\n",
      "Vector: [ 0.41265591 -0.6721173  -0.61479544]\n",
      "Matrix * Vector: [ 6.02322392 -9.58726608 -8.58696264]\n",
      "Normalized Vector: [ 0.42386514 -0.67467322 -0.60428006]\n",
      "Eigenvalue approximation: 15.2581221640846\n",
      "\n",
      "Iteration 13\n",
      "Vector: [ 0.42386514 -0.67467322 -0.60428006]\n",
      "Matrix * Vector: [  6.34175517 -10.2663901   -9.33940261]\n",
      "Normalized Vector: [ 0.41560397 -0.67280308 -0.61205339]\n",
      "Eigenvalue approximation: 14.484832401458206\n",
      "\n",
      "Iteration 14\n",
      "Vector: [ 0.41560397 -0.67280308 -0.61205339]\n",
      "Matrix * Vector: [ 6.10686451 -9.76551546 -8.78440745]\n",
      "Normalized Vector: [ 0.42158949 -0.67416571 -0.60643458]\n",
      "Eigenvalue approximation: 15.045272398016017\n",
      "\n",
      "Iteration 15\n",
      "Vector: [ 0.42158949 -0.67416571 -0.60643458]\n",
      "Matrix * Vector: [  6.27697591 -10.1282135   -9.18626885]\n",
      "Normalized Vector: [ 0.41719808 -0.6731699  -0.61056372]\n",
      "Eigenvalue approximation: 14.634172894323664\n",
      "\n",
      "Iteration 16\n",
      "Vector: [ 0.41719808 -0.6731699  -0.61056372]\n",
      "Matrix * Vector: [ 6.15213148 -9.8620081  -8.8913054 ]\n",
      "Normalized Vector: [ 0.42039075 -0.67389602 -0.60756545]\n",
      "Eigenvalue approximation: 14.933098001044337\n",
      "\n",
      "Iteration 17\n",
      "Vector: [ 0.42039075 -0.67389602 -0.60756545]\n",
      "Matrix * Vector: [  6.24287544 -10.05548909  -9.1056805 ]\n",
      "Normalized Vector: [ 0.41805407 -0.6733657  -0.60976178]\n",
      "Eigenvalue approximation: 14.714341362270764\n",
      "\n",
      "Iteration 18\n",
      "Vector: [ 0.41805407 -0.6733657  -0.60976178]\n",
      "Matrix * Vector: [ 6.17645004 -9.91385297 -8.94874509]\n",
      "Normalized Vector: [ 0.41975598 -0.67375256 -0.60816314]\n",
      "Eigenvalue approximation: 14.873684371972644\n",
      "\n",
      "Iteration 19\n",
      "Vector: [ 0.41975598 -0.67375256 -0.60816314]\n",
      "Matrix * Vector: [  6.22482469 -10.01699683  -9.06302825]\n",
      "Normalized Vector: [ 0.418512   -0.67347011 -0.60933219]\n",
      "Eigenvalue approximation: 14.757221745973446\n",
      "\n",
      "Iteration 20\n",
      "Vector: [ 0.418512   -0.67347011 -0.60933219]\n",
      "Matrix * Vector: [ 6.18946289 -9.94159701 -8.9794843 ]\n",
      "Normalized Vector: [ 0.41941892 -0.6736762  -0.60848019]\n",
      "Eigenvalue approximation: 14.842131955093326\n",
      "\n",
      "Iteration 21\n",
      "Vector: [ 0.41941892 -0.6736762  -0.60848019]\n",
      "Matrix * Vector: [ 6.21524159 -9.99656241 -9.04038605]\n",
      "Normalized Vector: [ 0.41875648 -0.67352576 -0.60910267]\n",
      "Eigenvalue approximation: 14.78011330549515\n",
      "\n",
      "Iteration 22\n",
      "Vector: [ 0.41875648 -0.67352576 -0.60910267]\n",
      "Matrix * Vector: [ 6.19641129 -9.9564119  -8.99589891]\n",
      "Normalized Vector: [ 0.41923967 -0.67363554 -0.60864871]\n",
      "Eigenvalue approximation: 14.825351905988242\n",
      "\n",
      "Iteration 23\n",
      "Vector: [ 0.41923967 -0.67363554 -0.60864871]\n",
      "Matrix * Vector: [ 6.210146   -9.98569716 -9.02834708]\n",
      "Normalized Vector: [ 0.41888687 -0.67355541 -0.60898022]\n",
      "Eigenvalue approximation: 14.792321321494104\n",
      "\n",
      "Iteration 24\n",
      "Vector: [ 0.41888687 -0.67355541 -0.60898022]\n",
      "Matrix * Vector: [ 6.2001173  -9.96431374 -9.00465409]\n",
      "Normalized Vector: [ 0.41914428 -0.67361389 -0.60873837]\n",
      "Eigenvalue approximation: 14.816421305012073\n",
      "\n",
      "Iteration 25\n",
      "Vector: [ 0.41914428 -0.67361389 -0.60873837]\n",
      "Matrix * Vector: [ 6.20743428 -9.9799151  -9.02194046]\n",
      "Normalized Vector: [ 0.41895637 -0.67357121 -0.60891493]\n",
      "Eigenvalue approximation: 14.798828257974453\n",
      "\n",
      "Iteration 26\n",
      "Vector: [ 0.41895637 -0.67357121 -0.60891493]\n",
      "Matrix * Vector: [ 6.20209275 -9.96852578 -9.00932101]\n",
      "Normalized Vector: [ 0.41909349 -0.67360236 -0.60878609]\n",
      "Eigenvalue approximation: 14.811666396234365\n",
      "\n",
      "Iteration 27\n",
      "Vector: [ 0.41909349 -0.67360236 -0.60878609]\n",
      "Matrix * Vector: [ 6.20599055 -9.97683672 -9.01852959]\n",
      "Normalized Vector: [ 0.4189934  -0.67357962 -0.60888014]\n",
      "Eigenvalue approximation: 14.802295475672668\n",
      "\n",
      "Iteration 28\n",
      "Vector: [ 0.4189934  -0.67357962 -0.60888014]\n",
      "Matrix * Vector: [ 6.2031454  -9.97077025 -9.01180789]\n",
      "Normalized Vector: [ 0.41906645 -0.67359621 -0.60881151]\n",
      "Eigenvalue approximation: 14.809134205676603\n",
      "\n",
      "Nilai eigen terbesar: 14.809134205676603\n",
      "Vektor eigen: [ 0.41906645 -0.67359621 -0.60881151]\n"
     ]
    }
   ],
   "source": [
    "def power_iteration(matrix, vector, num_iterations):\n",
    "    for i in range(num_iterations):\n",
    "        print(\"Iteration\", i + 1)\n",
    "        print(\"Vector:\", vector)\n",
    "        \n",
    "        # Mengalikan matriks dengan vektor\n",
    "        vector = np.dot(matrix, vector)\n",
    "        print(\"Matrix * Vector:\", vector)\n",
    "        \n",
    "        # Normalisasi vektor\n",
    "        vector_norm = np.sqrt(np.sum(vector**2))\n",
    "        vector = vector / vector_norm\n",
    "        print(\"Normalized Vector:\", vector)\n",
    "        print(\"Eigenvalue approximation:\", np.dot(np.dot(matrix, vector), vector) / np.dot(vector, vector))\n",
    "        print()\n",
    "        \n",
    "    # Menghitung nilai eigen\n",
    "    eigen_value = np.dot(np.dot(matrix, vector), vector) / np.dot(vector, vector)\n",
    "    return eigen_value, vector\n",
    "\n",
    "# Inisialisasi vektor awal\n",
    "v = np.array([1, 1, 1])\n",
    "\n",
    "# Menjalankan metode power iteration\n",
    "eigen_value, eigen_vector = power_iteration(matrix, v, 28)\n",
    "\n",
    "print(\"Nilai eigen terbesar:\", eigen_value)\n",
    "print(\"Vektor eigen:\", eigen_vector)"
   ]
  },
  {
   "cell_type": "markdown",
   "metadata": {},
   "source": [
    "Pada setiap iterasi metode power, vektor dikalikan dengan matriks, kemudian dinormalisasi dengan membaginya dengan norma Euclidean. Norma Euclidean dari vektor $\\mathbf{v}$ dihitung menggunakan rumus: $$\\left\\| v \\right\\| = \\sqrt{\\sum_{i=1}^{n}v_{i}^2}$$ <br>\n",
    "di mana $v_i$ menyatakan elemen-elemen vektor.<br>\n",
    "Setelah menghitung perkalian matriks-vektor $\\mathbf{Av}$, kita menghitung norma vektor hasil tersebut secara manual menggunakan rumus di atas. Mari kita tandai vektor hasil tersebut sebagai  $\\mathbf{v}_{\\text{baru}}$ dan normanya sebagai $\\left\\| \\mathbf{v}_{\\text{norm}} \\right\\|$. Vektor yang telah dinormalisasi, ditandai sebagai v_norm, diperoleh dengan membagi $\\mathbf{v}_{\\text{baru}}$ dengan $\\left\\| \\mathbf{v}_{\\text{norm}} \\right\\|$<br>\n",
    "\n",
    "\n",
    "$$\\mathbf{v}_{\\text{norm}}= \\frac{\\mathbf{v}_{\\text{baru}}}{\\left\\| \\mathbf{v}_{\\text{norm}} \\right\\|}$$\n",
    "\n",
    "<br>\n",
    "\n",
    "Langkah normalisasi ini memastikan bahwa vektor tetap memiliki arah yang sama namun memiliki norma satu. Hal ini memungkinkan kita untuk fokus pada arah vektor daripada magnitudo (besar) vektornya.<br>\n",
    "\n",
    "Terakhir, untuk mendekati nilai eigen dominan, kita menghitung perkiraan nilai eigen menggunakan rumus:<br>\n",
    "\n",
    "$\\text{Perkiraan nilai eigen}= \\frac{A\\mathbf{v}_{norm}\\cdot \\mathbf{v}_{norm}}{\\mathbf{v}_{norm}\\cdot \\mathbf{v}_{norm}}$<br>\n",
    "\n",
    "di mana $\\mathbf{Av}_{\\text{norm}}$ menyatakan perkalian matriks-vektor dari vektor yang telah dinormalisasi dengan matriks.\n",
    "\n",
    "Dengan mengulangi langkah-langkah ini secara iteratif, vektor akan konvergen ke vektor eigen dominan, dan perkiraan nilai eigen juga akan konvergen ke eigenvalue dominan dari matriks tersebut."
   ]
  },
  {
   "cell_type": "markdown",
   "metadata": {},
   "source": [
    "<h4>Soal 2</h4>\n",
    "Jika ruang berdimensi 3 memiliki hasil kali dalam Euclidian dan anggap W adalah sub ruang yang terentang oleh vector-vektor ortonormal v1= (0,3,0) dan v2= (2,0,4) . Carilah proyeksi orthogonal u=(2,2,2) pada W dan komponen u orthogonal terhadap W!"
   ]
  },
  {
   "cell_type": "code",
   "execution_count": 14,
   "metadata": {},
   "outputs": [],
   "source": [
    "v1 = np.array([0,3,0])\n",
    "v2 = np.array([2,0,4])\n",
    "u = np.array([2,2,2])"
   ]
  },
  {
   "cell_type": "code",
   "execution_count": 17,
   "metadata": {},
   "outputs": [
    {
     "name": "stdout",
     "output_type": "stream",
     "text": [
      "Proyeksi ortogonal u pada W: [24 18 48]\n",
      "Komponen ortogonal u terhadap W: [-22 -16 -46]\n"
     ]
    }
   ],
   "source": [
    "# Proyeksi ortogonal u pada W\n",
    "proj_W_u = np.dot(u, v1) * v1 + np.dot(u, v2) * v2\n",
    "\n",
    "# Komponen orthogonal u terhadap W\n",
    "comp_ortho_W = u - proj_W_u\n",
    "\n",
    "print(\"Proyeksi ortogonal u pada W:\", proj_W_u)\n",
    "print(\"Komponen ortogonal u terhadap W:\", comp_ortho_W)"
   ]
  },
  {
   "cell_type": "markdown",
   "metadata": {},
   "source": [
    "Untuk mencari proyeksi ortogonal $\\mathbf{proj}_W \\mathbf{u}$ dari vektor $\\mathbf{u}$ pada subruang $W$ yang terbentuk oleh vektor-vektor ortonormal $\\mathbf{v}_1 = (0, 3, 0)$ dan $\\mathbf{v}_2 = (2, 0, 4)$, kita dapat menggunakan rumus:\n",
    "\n",
    "$$\\mathbf{proj_{w}u} = \\left\\langle u,v_1 \\right\\rangle v_1 + \\left\\langle u,v_2 \\right\\rangle v_2 +  \\ldots +\\left\\langle u,v_r \\right\\rangle v_r$$\n",
    "\n",
    "Jadi, proyeksi ortogonal $\\mathbf{proj}_W \\mathbf{u}$ dari vektor $\\mathbf{u}=(2,2,2)$ pada subruang $W$ adalah $(24, 18, 48)$, sedangkan komponen orthogonal $\\mathbf{u}$ terhadap $W$ adalah $(-22, -16, -46)$.\n",
    "\n",
    "$$\\mathbf{proj_{w}} = \\begin{bmatrix}\n",
    "24 \\\\\n",
    "18 \\\\\n",
    "48\n",
    "\\end{bmatrix}$$\n",
    "\n",
    "$$\\mathbf{proj_{w}\\perp u} = \\begin{bmatrix}\n",
    "-22 \\\\\n",
    "-16 \\\\\n",
    "-46\n",
    "\\end{bmatrix}$$"
   ]
  },
  {
   "cell_type": "markdown",
   "metadata": {},
   "source": [
    "<h4>Soal 3</h4>\n",
    "Menggunakan matriks F, hitung persamaan regresi darii F(x)= a1+ a2x + a3x^2 kemudian hitung nilai E2, berdasarkan data pasangan berikut"
   ]
  },
  {
   "cell_type": "code",
   "execution_count": 20,
   "metadata": {},
   "outputs": [
    {
     "data": {
      "image/png": "[encoded data removed]",
      "text/plain": [
       "<Figure size 640x480 with 1 Axes>"
      ]
     },
     "metadata": {},
     "output_type": "display_data"
    }
   ],
   "source": [
    "import matplotlib.pyplot as plt\n",
    "\n",
    "dataX = np.array([-2, -1, 0, 1, 2])\n",
    "dataY = np.array([4, 3, 3, 6, 2])\n",
    "plt.scatter(dataX, dataY, color='red', label='Data Points')\n",
    "plt.xlabel('X')\n",
    "plt.ylabel('Y')\n",
    "plt.title('Data Plot')\n",
    "plt.legend()\n",
    "plt.show()\n"
   ]
  },
  {
   "cell_type": "markdown",
   "metadata": {},
   "source": [
    "Persamaan umum: $y = a_0+a_1x+a_2x^2+e$<br>\n",
    "Square residue $S_r=\\sum_{i=1}^{n}(y_i-a_0-a_1x_i-a_2x_i^2)^2$\n",
    "$$\\begin{bmatrix}\n",
    "(n)a_0 & (\\sum{{x_i}})a_1 & (\\sum{{x_i^2}})a_2 \\\\\n",
    "(\\sum{{x_i}})a_0 & (\\sum{{x_i^2}})a_1 & (\\sum{{x_i^3}})a_2 \\\\\n",
    "(\\sum{{x_i^2}})a_0 & (\\sum{{x_i^3}})a_1 & (\\sum{{x_i^4}})a_2 \\\\\n",
    "\\end{bmatrix}=\\begin{bmatrix}\n",
    "\\sum_{}^{}y_i \\\\ \\sum_{}^{}x_iy_i \\\\\n",
    "\\sum_{}^{}x_i^2y_i\n",
    "\\end{bmatrix}$$\n",
    "$$A =\\begin{bmatrix}\n",
    "(n)a_0 & (\\sum{{x_i}})a_1 & (\\sum{{x_i^2}})a_2 \\\\\n",
    "(\\sum{{x_i}})a_0 & (\\sum{{x_i^2}})a_1 & (\\sum{{x_i^3}})a_2 \\\\\n",
    "(\\sum{{x_i^2}})a_0 & (\\sum{{x_i^3}})a_1 & (\\sum{{x_i^4}})a_2 \\\\\n",
    "\\end{bmatrix}$$\n",
    "$$B = \\begin{bmatrix}\n",
    "\\sum_{}^{}y_i \\\\ \\sum_{}^{}x_iy_i \\\\\n",
    "\\sum_{}^{}x_i^2y_i\n",
    "\\end{bmatrix}$$"
   ]
  },
  {
   "cell_type": "code",
   "execution_count": 46,
   "metadata": {},
   "outputs": [
    {
     "name": "stdout",
     "output_type": "stream",
     "text": [
      "[2]\n",
      "Persamaan regresi: y = 4.029 + -0.100x + -0.214x^2\n",
      "nilai y pada x = 2: 2.9714285714285706\n",
      "Nilai e pada x = 2: [-0.97142857]\n"
     ]
    }
   ],
   "source": [
    "dataX = np.array([-2, -1, 0, 1, 2])\n",
    "dataY = np.array([4, 3, 3, 6, 2])\n",
    "\n",
    "n = len(dataX)\n",
    "sum_x = np.sum(dataX)\n",
    "sum_x2 = np.sum(dataX ** 2)\n",
    "sum_x3 = np.sum(dataX ** 3)\n",
    "sum_x4 = np.sum(dataX ** 4)\n",
    "sum_y = np.sum(dataY)\n",
    "sum_xy = np.sum(dataX * dataY)\n",
    "sum_x2y = np.sum((dataX ** 2) * dataY)\n",
    "\n",
    "# Membentuk matriks persamaan\n",
    "A = np.array([[n, sum_x, sum_x2],\n",
    "              [sum_x, sum_x2, sum_x3],\n",
    "              [sum_x2, sum_x3, sum_x4]])\n",
    "\n",
    "B = np.array([sum_y, sum_xy, sum_x2y])\n",
    "\n",
    "# Menghitung solusi a0, a1, a2\n",
    "A_inv = np.linalg.inv(A)\n",
    "\n",
    "coefficients = np.dot(A_inv, B)\n",
    "\n",
    "a0 = coefficients[0]\n",
    "a1 = coefficients[1]\n",
    "a2 = coefficients[2]\n",
    "\n",
    "# Menghitung nilai e pada x = 2\n",
    "x_value = 2\n",
    "y = coefficients[0] + coefficients[1] * x_value + coefficients[2] * (x_value ** 2)\n",
    "e =  dataY[dataX == x_value] - y\n",
    "\n",
    "print(dataY[dataX == x_value])\n",
    "\n",
    "print(f\"Persamaan regresi: y = {a0:.3f} + {a1:.3f}x + {a2:.3f}x^2\")\n",
    "print(f'nilai y pada x = {x_value}: {y}')\n",
    "print(f\"Nilai e pada x = {x_value}: {e}\")\n"
   ]
  },
  {
   "cell_type": "markdown",
   "metadata": {},
   "source": [
    "Langkah 1: Membentuk Matriks A dan Vektor B\n",
    "Matriks A dan vektor B dapat dibentuk berdasarkan data yang diberikan. Dalam kasus ini, matriks A memiliki bentuk sebagai berikut:\n",
    "$$A =\\begin{bmatrix}\n",
    "(n)a_0 & (\\sum{{x_i}})a_1 & (\\sum{{x_i^2}})a_2 \\\\\n",
    "(\\sum{{x_i}})a_0 & (\\sum{{x_i^2}})a_1 & (\\sum{{x_i^3}})a_2 \\\\\n",
    "(\\sum{{x_i^2}})a_0 & (\\sum{{x_i^3}})a_1 & (\\sum{{x_i^4}})a_2 \\\\\n",
    "\\end{bmatrix}$$\n",
    "<br><br>\n",
    "Vektor B didefinisikan sebagai berikut:\n",
    "$$B = \\begin{bmatrix}\n",
    "\\sum_{}^{}y_i \\\\ \\sum_{}^{}x_iy_i \\\\\n",
    "\\sum_{}^{}x_i^2y_i\n",
    "\\end{bmatrix}$$\n",
    "<br><br>\n",
    "\n",
    "Langkah selanjutnya adalah menghitung invers dari matriks A. Dalam kasus ini, kita dapat menggunakan $\\text{np.linalg.inv}$ untuk menghitung invers matriks A.$$A_{inv} = \\text{np.linalg.inv(A)}$$\n",
    "<br><br>\n",
    "Setelah mendapatkan invers matriks A, kita dapat menghitung solusi dengan mengalikan invers matriks A dengan vektor B:\n",
    "$$\\text{coefficients} = A_{inv} \\cdot B$$\n",
    "<br><br>\n",
    "Dari coefficients, didapatkan persamaan $y = 4.029 + -0.100x + -0.214x^2$ <br><br>\n",
    "\n",
    "| X | Y\n",
    "| :- | -: |\n",
    "| -2 | 4\n",
    "| -1 | 3\n",
    "| 0 | 3\n",
    "| 1 | 6\n",
    "| 2 | 2\n",
    "\n",
    "Terakhir, kita dapat menghitung nilai e pada x=2 menggunakan persamaan umum yang dimodifikasi:\n",
    "\\begin{align*}\n",
    "y &= a_0 + a_1x + a_2x^2 + e \\\\\n",
    "y_{\\text{data}} &= y + e \\\\\n",
    "e &= y_{\\text{data}} - y \\\\\n",
    "e &= 2 - 2.9714285714285706 \\\\\n",
    "e &= -0.97142857\n",
    "\\end{align*}\n",
    "<br><br>\n",
    "Jadi, nilai $e_2$ adalah -0.97142857"
   ]
  },
  {
   "cell_type": "markdown",
   "metadata": {},
   "source": [
    "Berikut merupakan plot dari data yang ada dan fungsi regresi polinomial yang telah didapatkan"
   ]
  },
  {
   "cell_type": "code",
   "execution_count": 39,
   "metadata": {},
   "outputs": [
    {
     "data": {
      "image/png": "[encoded data removed]",
      "text/plain": [
       "<Figure size 640x480 with 1 Axes>"
      ]
     },
     "metadata": {},
     "output_type": "display_data"
    }
   ],
   "source": [
    "x = np.arange(-2,2,0.01)\n",
    "fx = lambda x : coefficients[0] + coefficients[1] * x + coefficients[2] * (x ** 2)\n",
    "plt.scatter(dataX, dataY, color='red', label='Data')\n",
    "plt.plot(x,fx(x),'-')\n",
    "plt.grid(True)\n",
    "plt.show()"
   ]
  }
 ],
 "metadata": {
  "kernelspec": {
   "display_name": "Python 3",
   "language": "python",
   "name": "python3"
  },
  "language_info": {
   "codemirror_mode": {
    "name": "ipython",
    "version": 3
   },
   "file_extension": ".py",
   "mimetype": "text/x-python",
   "name": "python",
   "nbconvert_exporter": "python",
   "pygments_lexer": "ipython3",
   "version": "3.11.2"
  },
  "orig_nbformat": 4
 },
 "nbformat": 4,
 "nbformat_minor": 2
}
