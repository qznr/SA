{
 "cells": [
  {
   "cell_type": "markdown",
   "metadata": {},
   "source": [
    "<h4>Moch. Gustav Ali Rafsandjani</h4>\n",
    "<h4>225150201111015</h4>"
   ]
  },
  {
   "cell_type": "markdown",
   "metadata": {},
   "source": [
    "<h5>Golden Section Search</h5>"
   ]
  },
  {
   "cell_type": "code",
   "execution_count": 2,
   "metadata": {},
   "outputs": [],
   "source": [
    "import math\n",
    "\n",
    "def golden_section_search(function, xl, xu, epsilon=1e-6):\n",
    "    # Calculate the golden ratio\n",
    "    golden_ratio = (1 + math.sqrt(5)) / 2\n",
    "    d = (xu - xl) / golden_ratio\n",
    "\n",
    "    # Calculate the initial points\n",
    "    x1 = xu - d\n",
    "    x2 = xl + d\n",
    "\n",
    "    # Evaluate the function at the initial points\n",
    "    f_x1 = function(x1)\n",
    "    f_x2 = function(x2)\n",
    "\n",
    "    # Iterate until the termination condition is met\n",
    "    while abs(xu - xl) > epsilon:\n",
    "        if f_x1 < f_x2:\n",
    "            xu = x2\n",
    "            x2 = x1\n",
    "            x1 = xu - (xu - xl) / golden_ratio\n",
    "            f_x2 = f_x1\n",
    "            f_x1 = function(x1)\n",
    "        else:\n",
    "            xl = x1\n",
    "            x1 = x2\n",
    "            x2 = xl + (xu - xl) / golden_ratio\n",
    "            f_x1 = f_x2\n",
    "            f_x2 = function(x2)\n",
    "\n",
    "    # Return the midpoint of the final interval\n",
    "    return (xl + xu) / 2\n"
   ]
  },
  {
   "cell_type": "code",
   "execution_count": 3,
   "metadata": {},
   "outputs": [
    {
     "name": "stdout",
     "output_type": "stream",
     "text": [
      "Minimum point: 1.0000001718142735\n"
     ]
    }
   ],
   "source": [
    "def my_function(x):\n",
    "    return x**2 - 2*x +1\n",
    "\n",
    "# Specify the initial interval\n",
    "a = -3\n",
    "b = 2\n",
    "\n",
    "# Perform the golden section search\n",
    "result = golden_section_search(my_function, a, b)\n",
    "\n",
    "print(\"Minimum point:\", result)"
   ]
  },
  {
   "cell_type": "code",
   "execution_count": 18,
   "metadata": {},
   "outputs": [
    {
     "data": {
      "image/png": "[encoded data removed]",
      "text/plain": [
       "<Figure size 640x480 with 1 Axes>"
      ]
     },
     "metadata": {},
     "output_type": "display_data"
    }
   ],
   "source": [
    "import matplotlib.pyplot as plt\n",
    "import numpy as np\n",
    "\n",
    "x = np.arange(-4,1,0.01)\n",
    "fx = lambda x : x**3 + 5*x**2 + 4*x - 1\n",
    "plt.plot(x, fx(x), '-r')\n",
    "plt.grid(True)\n",
    "plt.show()"
   ]
  },
  {
   "cell_type": "code",
   "execution_count": 20,
   "metadata": {},
   "outputs": [
    {
     "name": "stdout",
     "output_type": "stream",
     "text": [
      " Iterasi\t    x(k)\t  f'x(k)\t f''x(k)\t  x(k+1)\t      Er\t\n",
      "       1\t-2.00000\t-8.00000\t 2.00000\t 2.00000\t200.00000\t\n",
      "       2\t 2.00000\t32.00000\t18.00000\t 0.22222\t-800.00000\t\n",
      "       3\t 0.22222\t 6.32099\t10.88889\t-0.35828\t162.02532\t\n",
      "       4\t-0.35828\t 0.67396\t 8.56689\t-0.43695\t18.00449\t\n",
      "       5\t-0.43695\t 0.01238\t 8.25221\t-0.43845\t 0.34211\t\n",
      "       6\t-0.43845\t 0.00000\t 8.24621\t-0.43845\t 0.00012\t\n",
      "       7\t-0.43845\t 0.00000\t 8.24621\t-0.43845\t 0.00000\t\n",
      "\n",
      "Nilai Minimum atau maksimum adalah adalah  -0.4384471871911697\n"
     ]
    }
   ],
   "source": [
    "def newton_method(dfx, ddfx, x0):\n",
    "    Er = 10000.0\n",
    "    n = 0\n",
    "\n",
    "    print('%8s\\t%8s\\t%8s\\t%8s\\t%8s\\t%8s\\t' % ('Iterasi', 'x(k)', \"f'x(k)\", \"f''x(k)\", 'x(k+1)', 'Er'))\n",
    "\n",
    "    while abs(Er) > 1e-6:\n",
    "        n += 1\n",
    "        dfx_val = dfx(x0)\n",
    "        ddfx_val = ddfx(x0)\n",
    "\n",
    "        if dfx_val == 0:\n",
    "            print('The derivative is zero. Newton method cannot continue.')\n",
    "            return\n",
    "\n",
    "        x1 = x0 - dfx_val / ddfx_val\n",
    "        Er = ((x1 - x0) / x1) * 100\n",
    "        print('%8d\\t%8.5f\\t%8.5f\\t%8.5f\\t%8.5f\\t%8.5f\\t' % (n, x0, dfx_val, ddfx_val, x1, Er))\n",
    "        x0 = x1\n",
    "\n",
    "    print('\\nNilai Minimum atau maksimum adalah adalah ', x0)\n",
    "\n",
    "\n",
    "# Example usage of the newton_method function:\n",
    "def df(x):\n",
    "    return 2*x**2 + 10*x + 4\n",
    "\n",
    "def ddf(x):\n",
    "    return 4*x + 10\n",
    "\n",
    "fx = lambda x : x**3 + 5*x**2 + 4*x - 1\n",
    "\n",
    "newton_method(df, ddf, -2)\n"
   ]
  },
  {
   "cell_type": "code",
   "execution_count": 23,
   "metadata": {},
   "outputs": [
    {
     "data": {
      "text/plain": [
       "-0.46481647240965945"
      ]
     },
     "execution_count": 23,
     "metadata": {},
     "output_type": "execute_result"
    }
   ],
   "source": [
    "golden_section_search(fx, -1, 3)"
   ]
  }
 ],
 "metadata": {
  "kernelspec": {
   "display_name": "Python 3",
   "language": "python",
   "name": "python3"
  },
  "language_info": {
   "codemirror_mode": {
    "name": "ipython",
    "version": 3
   },
   "file_extension": ".py",
   "mimetype": "text/x-python",
   "name": "python",
   "nbconvert_exporter": "python",
   "pygments_lexer": "ipython3",
   "version": "3.11.2"
  },
  "orig_nbformat": 4
 },
 "nbformat": 4,
 "nbformat_minor": 2
}
