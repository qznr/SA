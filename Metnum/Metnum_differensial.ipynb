{
 "cells": [
  {
   "cell_type": "code",
   "execution_count": 37,
   "metadata": {},
   "outputs": [],
   "source": [
    "f = lambda x : x**2 - 1"
   ]
  },
  {
   "cell_type": "code",
   "execution_count": 39,
   "metadata": {},
   "outputs": [],
   "source": [
    "def backward_difference(f, x, h):\n",
    "    return (f(x)-f(x-h))/h"
   ]
  },
  {
   "cell_type": "code",
   "execution_count": 42,
   "metadata": {},
   "outputs": [],
   "source": [
    "def forward_difference(f, x, h):\n",
    "    return (f(x+h)-f(x))/h"
   ]
  },
  {
   "cell_type": "code",
   "execution_count": 30,
   "metadata": {},
   "outputs": [],
   "source": [
    "def central_difference(f, x, h):\n",
    "    return (f(x+h)-f(x-h))/(2*h)"
   ]
  },
  {
   "cell_type": "code",
   "execution_count": 55,
   "metadata": {},
   "outputs": [
    {
     "name": "stdout",
     "output_type": "stream",
     "text": [
      "Forward Dif w/  k = 1\t\t: 2.0\n",
      "Backward Dif w/ k = 1\t\t: 4.0\n",
      "Central Dif w/  k = 1\t\t: 3.0\n",
      "Forward Dif w/  k = 0.1\t\t: 0.9200000000000008\n",
      "Backward Dif w/ k = 0.1\t\t: 1.120000000000001\n",
      "Central Dif w/  k = 0.1\t\t: 1.020000000000001\n",
      "Forward Dif w/  k = 0.01\t\t: 0.9901999999999855\n",
      "Backward Dif w/ k = 0.01\t\t: 1.0102000000000055\n",
      "Central Dif w/  k = 0.01\t\t: 1.0001999999999955\n",
      "Forward Dif w/  k = 0.001\t\t: 0.9990019999999156\n",
      "Backward Dif w/ k = 0.001\t\t: 1.001001999999973\n",
      "Central Dif w/  k = 0.001\t\t: 1.0000019999999443\n",
      "Forward Dif w/  k = 0.0001\t\t: 0.9999000200000552\n",
      "Backward Dif w/ k = 0.0001\t\t: 1.0001000200010601\n",
      "Central Dif w/  k = 0.0001\t\t: 1.0000000200005577\n",
      "Forward Dif w/  k = 1e-05\t\t: 0.9999900001833594\n",
      "Backward Dif w/ k = 1e-05\t\t: 1.0000100002072188\n",
      "Central Dif w/  k = 1e-05\t\t: 1.0000000001952891\n"
     ]
    }
   ],
   "source": [
    "k = [1, 1e-1, 1e-2, 1e-3, 1e-4, 1e-5]\n",
    "\n",
    "for k in k:\n",
    "    print(f'Forward Dif w/  k = {k}\\t\\t: {forward_difference(f, 0, k)}')\n",
    "    print(f'Backward Dif w/ k = {k}\\t\\t: {backward_difference(f, 0, k)}')\n",
    "    print(f'Central Dif w/  k = {k}\\t\\t: {central_difference(f, 0, k)}')"
   ]
  },
  {
   "cell_type": "code",
   "execution_count": 54,
   "metadata": {},
   "outputs": [],
   "source": [
    "f = lambda x : 2*x**3 - x**2 + x + 2"
   ]
  },
  {
   "cell_type": "code",
   "execution_count": 58,
   "metadata": {},
   "outputs": [],
   "source": [
    "def richardson_extrapolation(f, x, h):\n",
    "    return (1/(12*h))*(8*f(x+h)-8*f(x-h))-(f(x+2*h)-f(x-2*h))"
   ]
  },
  {
   "cell_type": "code",
   "execution_count": 59,
   "metadata": {},
   "outputs": [
    {
     "name": "stdout",
     "output_type": "stream",
     "text": [
      "richardson extrapolation w/  k = 1\t\t: -32.0\n",
      "richardson extrapolation w/  k = 0.1\t\t: 0.9280000000000008\n",
      "richardson extrapolation w/  k = 0.01\t\t: 1.293567999999994\n",
      "richardson extrapolation w/  k = 0.001\t\t: 1.3293359679999255\n",
      "richardson extrapolation w/  k = 0.0001\t\t: 1.3329333599687434\n",
      "richardson extrapolation w/  k = 1e-05\t\t: 1.3332933335936865\n"
     ]
    }
   ],
   "source": [
    "k = [1, 1e-1, 1e-2, 1e-3, 1e-4, 1e-5]\n",
    "for k in k:\n",
    "    print(f'richardson extrapolation w/  k = {k}\\t\\t: {richardson_extrapolation(f, 0, k)}')"
   ]
  }
 ],
 "metadata": {
  "kernelspec": {
   "display_name": "Python 3",
   "language": "python",
   "name": "python3"
  },
  "language_info": {
   "codemirror_mode": {
    "name": "ipython",
    "version": 3
   },
   "file_extension": ".py",
   "mimetype": "text/x-python",
   "name": "python",
   "nbconvert_exporter": "python",
   "pygments_lexer": "ipython3",
   "version": "3.11.2"
  },
  "orig_nbformat": 4
 },
 "nbformat": 4,
 "nbformat_minor": 2
}
